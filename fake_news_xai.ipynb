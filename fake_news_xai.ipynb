{
 "cells": [
  {
   "cell_type": "markdown",
   "metadata": {},
   "source": [
    "# 📰 Fake News Detection with RoBERTa, Emotion/Sentiment Analysis, and XAI\n",
    "**Includes:** Preprocessing, Fine-Tuning, Visualization, Emotion/Sentiment Features, and LIME Explanations"
   ]
  },
  {
   "cell_type": "code",
   "execution_count": null,
   "metadata": {},
   "outputs": [],
   "source": [
    "import pandas as pd\n",
    "import matplotlib.pyplot as plt\n",
    "import seaborn as sns\n",
    "import numpy as np\n",
    "import re\n",
    "from transformers import pipeline\n",
    "import torch\n",
    "from torch.utils.data import Dataset, DataLoader\n",
    "from transformers import AutoTokenizer, AutoModelForSequenceClassification\n",
    "from torch.optim import AdamW\n",
    "from transformers import get_scheduler\n",
    "from sklearn.metrics import accuracy_score\n",
    "from tqdm import tqdm"
   ]
  },
  {
   "cell_type": "code",
   "execution_count": null,
   "metadata": {},
   "outputs": [
    {
     "name": "stdout",
     "output_type": "stream",
     "text": [
      "training set nulls: \n",
      "Unnamed: 0    0\n",
      "title         0\n",
      "text          0\n",
      "subject       0\n",
      "date          0\n",
      "label         0\n",
      "dtype: int64\n",
      "\n",
      "validation set nulls: \n",
      "Unnamed: 0    0\n",
      "title         0\n",
      "text          0\n",
      "subject       0\n",
      "date          0\n",
      "label         0\n",
      "dtype: int64\n"
     ]
    }
   ],
   "source": [
    "train_df = pd.read_csv('train.tsv', sep='\\t')\n",
    "val_df = pd.read_csv('validation.tsv', sep='\\t')\n",
    "\n",
    "print(\"training set nulls: \")\n",
    "print(train_df.isnull().sum())\n",
    "train_df.dropna(inplace=True)\n",
    "\n",
    "print()\n",
    "\n",
    "print(\"validation set nulls: \")\n",
    "print(val_df.isnull().sum())\n",
    "val_df.dropna(inplace=True)"
   ]
  },
  {
   "cell_type": "code",
   "execution_count": 2,
   "metadata": {},
   "outputs": [
    {
     "data": {
      "text/html": [
       "<div>\n",
       "<style scoped>\n",
       "    .dataframe tbody tr th:only-of-type {\n",
       "        vertical-align: middle;\n",
       "    }\n",
       "\n",
       "    .dataframe tbody tr th {\n",
       "        vertical-align: top;\n",
       "    }\n",
       "\n",
       "    .dataframe thead th {\n",
       "        text-align: right;\n",
       "    }\n",
       "</style>\n",
       "<table border=\"1\" class=\"dataframe\">\n",
       "  <thead>\n",
       "    <tr style=\"text-align: right;\">\n",
       "      <th></th>\n",
       "      <th>Unnamed: 0</th>\n",
       "      <th>title</th>\n",
       "      <th>text</th>\n",
       "      <th>subject</th>\n",
       "      <th>date</th>\n",
       "      <th>label</th>\n",
       "      <th>content</th>\n",
       "    </tr>\n",
       "  </thead>\n",
       "  <tbody>\n",
       "    <tr>\n",
       "      <th>0</th>\n",
       "      <td>2619</td>\n",
       "      <td>Ex-CIA head says Trump remarks on Russia inter...</td>\n",
       "      <td>Former CIA director John Brennan on Friday cri...</td>\n",
       "      <td>politicsNews</td>\n",
       "      <td>July 22, 2017</td>\n",
       "      <td>1</td>\n",
       "      <td>Ex-CIA head says Trump remarks on Russia inter...</td>\n",
       "    </tr>\n",
       "    <tr>\n",
       "      <th>1</th>\n",
       "      <td>16043</td>\n",
       "      <td>YOU WON’T BELIEVE HIS PUNISHMENT! HISPANIC STO...</td>\n",
       "      <td>How did this man come to OWN this store? There...</td>\n",
       "      <td>Government News</td>\n",
       "      <td>Jun 19, 2017</td>\n",
       "      <td>0</td>\n",
       "      <td>YOU WON’T BELIEVE HIS PUNISHMENT! HISPANIC STO...</td>\n",
       "    </tr>\n",
       "    <tr>\n",
       "      <th>2</th>\n",
       "      <td>876</td>\n",
       "      <td>Federal Reserve governor Powell's policy views...</td>\n",
       "      <td>President Donald Trump on Thursday tapped Fede...</td>\n",
       "      <td>politicsNews</td>\n",
       "      <td>November 2, 2017</td>\n",
       "      <td>1</td>\n",
       "      <td>Federal Reserve governor Powell's policy views...</td>\n",
       "    </tr>\n",
       "    <tr>\n",
       "      <th>3</th>\n",
       "      <td>19963</td>\n",
       "      <td>SCOUNDREL HILLARY SUPPORTER STARTS “TrumpLeaks...</td>\n",
       "      <td>Hillary Clinton ally David Brock is offering t...</td>\n",
       "      <td>left-news</td>\n",
       "      <td>Sep 17, 2016</td>\n",
       "      <td>0</td>\n",
       "      <td>SCOUNDREL HILLARY SUPPORTER STARTS “TrumpLeaks...</td>\n",
       "    </tr>\n",
       "    <tr>\n",
       "      <th>4</th>\n",
       "      <td>10783</td>\n",
       "      <td>NANCY PELOSI ARROGANTLY DISMISSES Questions on...</td>\n",
       "      <td>Pleading ignorance is a perfect ploy for Nancy...</td>\n",
       "      <td>politics</td>\n",
       "      <td>May 26, 2017</td>\n",
       "      <td>0</td>\n",
       "      <td>NANCY PELOSI ARROGANTLY DISMISSES Questions on...</td>\n",
       "    </tr>\n",
       "  </tbody>\n",
       "</table>\n",
       "</div>"
      ],
      "text/plain": [
       "   Unnamed: 0                                              title  \\\n",
       "0        2619  Ex-CIA head says Trump remarks on Russia inter...   \n",
       "1       16043  YOU WON’T BELIEVE HIS PUNISHMENT! HISPANIC STO...   \n",
       "2         876  Federal Reserve governor Powell's policy views...   \n",
       "3       19963  SCOUNDREL HILLARY SUPPORTER STARTS “TrumpLeaks...   \n",
       "4       10783  NANCY PELOSI ARROGANTLY DISMISSES Questions on...   \n",
       "\n",
       "                                                text          subject  \\\n",
       "0  Former CIA director John Brennan on Friday cri...     politicsNews   \n",
       "1  How did this man come to OWN this store? There...  Government News   \n",
       "2  President Donald Trump on Thursday tapped Fede...     politicsNews   \n",
       "3  Hillary Clinton ally David Brock is offering t...        left-news   \n",
       "4  Pleading ignorance is a perfect ploy for Nancy...         politics   \n",
       "\n",
       "                date  label                                            content  \n",
       "0     July 22, 2017       1  Ex-CIA head says Trump remarks on Russia inter...  \n",
       "1       Jun 19, 2017      0  YOU WON’T BELIEVE HIS PUNISHMENT! HISPANIC STO...  \n",
       "2  November 2, 2017       1  Federal Reserve governor Powell's policy views...  \n",
       "3       Sep 17, 2016      0  SCOUNDREL HILLARY SUPPORTER STARTS “TrumpLeaks...  \n",
       "4       May 26, 2017      0  NANCY PELOSI ARROGANTLY DISMISSES Questions on...  "
      ]
     },
     "execution_count": 2,
     "metadata": {},
     "output_type": "execute_result"
    }
   ],
   "source": [
    "train_df['title'] = train_df['title'].astype(str).str.strip()\n",
    "train_df['subject'] = train_df['subject'].astype(str).str.strip()\n",
    "train_df['text'] = train_df['text'].astype(str).str.strip()\n",
    "\n",
    "train_df['content'] = train_df['title'] + ' ' + train_df['subject'] + ' ' + train_df['text']\n",
    "\n",
    "train_df.head(5)"
   ]
  },
  {
   "cell_type": "code",
   "execution_count": 3,
   "metadata": {},
   "outputs": [
    {
     "data": {
      "text/html": [
       "<div>\n",
       "<style scoped>\n",
       "    .dataframe tbody tr th:only-of-type {\n",
       "        vertical-align: middle;\n",
       "    }\n",
       "\n",
       "    .dataframe tbody tr th {\n",
       "        vertical-align: top;\n",
       "    }\n",
       "\n",
       "    .dataframe thead th {\n",
       "        text-align: right;\n",
       "    }\n",
       "</style>\n",
       "<table border=\"1\" class=\"dataframe\">\n",
       "  <thead>\n",
       "    <tr style=\"text-align: right;\">\n",
       "      <th></th>\n",
       "      <th>Unnamed: 0</th>\n",
       "      <th>title</th>\n",
       "      <th>text</th>\n",
       "      <th>subject</th>\n",
       "      <th>date</th>\n",
       "      <th>label</th>\n",
       "      <th>content</th>\n",
       "    </tr>\n",
       "  </thead>\n",
       "  <tbody>\n",
       "    <tr>\n",
       "      <th>0</th>\n",
       "      <td>14074</td>\n",
       "      <td>TRUMP HATER GEORGE RAMOS Promotes Movie Showin...</td>\n",
       "      <td>Mexico has been the beneficiary of our open bo...</td>\n",
       "      <td>politics</td>\n",
       "      <td>Apr 20, 2016</td>\n",
       "      <td>0</td>\n",
       "      <td>TRUMP HATER GEORGE RAMOS Promotes Movie Showin...</td>\n",
       "    </tr>\n",
       "    <tr>\n",
       "      <th>1</th>\n",
       "      <td>17592</td>\n",
       "      <td>Germany seeks to maintain unity if U.S. decert...</td>\n",
       "      <td>The German government on Friday vowed to work ...</td>\n",
       "      <td>worldnews</td>\n",
       "      <td>October 13, 2017</td>\n",
       "      <td>1</td>\n",
       "      <td>Germany seeks to maintain unity if U.S. decert...</td>\n",
       "    </tr>\n",
       "    <tr>\n",
       "      <th>2</th>\n",
       "      <td>5694</td>\n",
       "      <td>No sign U.S. wants to cancel nuclear deal with...</td>\n",
       "      <td>German Foreign Minister Sigmar Gabriel said it...</td>\n",
       "      <td>politicsNews</td>\n",
       "      <td>February 2, 2017</td>\n",
       "      <td>1</td>\n",
       "      <td>No sign U.S. wants to cancel nuclear deal with...</td>\n",
       "    </tr>\n",
       "    <tr>\n",
       "      <th>3</th>\n",
       "      <td>20036</td>\n",
       "      <td>Brazil prosecutors seek to extend Batista dete...</td>\n",
       "      <td>The Office of Brazil s Prosecutor-General Rodr...</td>\n",
       "      <td>worldnews</td>\n",
       "      <td>September 14, 2017</td>\n",
       "      <td>1</td>\n",
       "      <td>Brazil prosecutors seek to extend Batista dete...</td>\n",
       "    </tr>\n",
       "    <tr>\n",
       "      <th>4</th>\n",
       "      <td>234</td>\n",
       "      <td>Trump Just Asked The Most Unqualified Person E...</td>\n",
       "      <td>Trump, who keeps promising to either scrap our...</td>\n",
       "      <td>News</td>\n",
       "      <td>October 10, 2017</td>\n",
       "      <td>0</td>\n",
       "      <td>Trump Just Asked The Most Unqualified Person E...</td>\n",
       "    </tr>\n",
       "  </tbody>\n",
       "</table>\n",
       "</div>"
      ],
      "text/plain": [
       "   Unnamed: 0                                              title  \\\n",
       "0       14074  TRUMP HATER GEORGE RAMOS Promotes Movie Showin...   \n",
       "1       17592  Germany seeks to maintain unity if U.S. decert...   \n",
       "2        5694  No sign U.S. wants to cancel nuclear deal with...   \n",
       "3       20036  Brazil prosecutors seek to extend Batista dete...   \n",
       "4         234  Trump Just Asked The Most Unqualified Person E...   \n",
       "\n",
       "                                                text       subject  \\\n",
       "0  Mexico has been the beneficiary of our open bo...      politics   \n",
       "1  The German government on Friday vowed to work ...     worldnews   \n",
       "2  German Foreign Minister Sigmar Gabriel said it...  politicsNews   \n",
       "3  The Office of Brazil s Prosecutor-General Rodr...     worldnews   \n",
       "4  Trump, who keeps promising to either scrap our...          News   \n",
       "\n",
       "                  date  label  \\\n",
       "0         Apr 20, 2016      0   \n",
       "1    October 13, 2017       1   \n",
       "2    February 2, 2017       1   \n",
       "3  September 14, 2017       1   \n",
       "4     October 10, 2017      0   \n",
       "\n",
       "                                             content  \n",
       "0  TRUMP HATER GEORGE RAMOS Promotes Movie Showin...  \n",
       "1  Germany seeks to maintain unity if U.S. decert...  \n",
       "2  No sign U.S. wants to cancel nuclear deal with...  \n",
       "3  Brazil prosecutors seek to extend Batista dete...  \n",
       "4  Trump Just Asked The Most Unqualified Person E...  "
      ]
     },
     "execution_count": 3,
     "metadata": {},
     "output_type": "execute_result"
    }
   ],
   "source": [
    "val_df['title'] = val_df['title'].astype(str).str.strip()\n",
    "val_df['subject'] = val_df['subject'].astype(str).str.strip()\n",
    "val_df['text'] = val_df['text'].astype(str).str.strip()\n",
    "\n",
    "val_df['content'] = val_df['title'] + ' ' + val_df['subject'] + ' ' + val_df['text']\n",
    "\n",
    "val_df.head(5)"
   ]
  },
  {
   "cell_type": "code",
   "execution_count": null,
   "metadata": {},
   "outputs": [],
   "source": [
    "def clean_for_bert(text):\n",
    "    text = re.sub(r'\\s+', ' ', text)\n",
    "    text = text.encode('ascii', 'ignore').decode()\n",
    "    text = text.lower()\n",
    "    \n",
    "    return text.strip()"
   ]
  },
  {
   "cell_type": "code",
   "execution_count": 5,
   "metadata": {},
   "outputs": [
    {
     "name": "stdout",
     "output_type": "stream",
     "text": [
      "Cleaned training set content:\n",
      "0    ex-cia head says trump remarks on russia inter...\n",
      "1    you wont believe his punishment! hispanic stor...\n",
      "2    federal reserve governor powell's policy views...\n",
      "3    scoundrel hillary supporter starts trumpleaks ...\n",
      "4    nancy pelosi arrogantly dismisses questions on...\n",
      "Name: content, dtype: object\n",
      "\n",
      "Cleaned validation set content:\n",
      "0    trump hater george ramos promotes movie showin...\n",
      "1    germany seeks to maintain unity if u.s. decert...\n",
      "2    no sign u.s. wants to cancel nuclear deal with...\n",
      "3    brazil prosecutors seek to extend batista dete...\n",
      "4    trump just asked the most unqualified person e...\n",
      "Name: content, dtype: object\n"
     ]
    }
   ],
   "source": [
    "train_df['content'] = train_df['content'].apply(clean_for_bert)\n",
    "val_df['content'] = val_df['content'].apply(clean_for_bert)\n",
    "\n",
    "print(\"Cleaned training set content:\")\n",
    "print(train_df['content'].head(5))\n",
    "print()\n",
    "print(\"Cleaned validation set content:\")\n",
    "print(val_df['content'].head(5))"
   ]
  },
  {
   "cell_type": "code",
   "execution_count": null,
   "metadata": {},
   "outputs": [],
   "source": [
    "def plot_class_distribution(df, label_col='label', title='Class Distribution'):\n",
    "\n",
    "    # Count and percentage\n",
    "    class_counts = df[label_col].value_counts()\n",
    "    class_percent = df[label_col].value_counts(normalize=True) * 100\n",
    "\n",
    "    # Map numeric to string labels\n",
    "    label_names = {0: 'FAKE', 1: 'REAL'}\n",
    "    labels_str = class_counts.index.map(label_names)\n",
    "\n",
    "    # Create display DataFrame\n",
    "    class_df = pd.DataFrame({\n",
    "        'label': labels_str,\n",
    "        'count': class_counts.values,\n",
    "        'percent': class_percent.values\n",
    "    })\n",
    "\n",
    "    # Plot\n",
    "    plt.figure(figsize=(6, 4))\n",
    "    sns.barplot(data=class_df, x='label', y='count', hue='label', palette='Set2', legend=False)\n",
    "\n",
    "    for i, row in class_df.iterrows():\n",
    "        plt.text(i, row['count'] + class_df['count'].max() * 0.01, \n",
    "                 f\"{int(row['count'])} ({row['percent']:.2f}%)\", \n",
    "                 ha='center', fontsize=12)\n",
    "\n",
    "    plt.title(title, fontsize=14)\n",
    "    plt.ylabel(\"Number of Samples\")\n",
    "    plt.xlabel(\"Class\")\n",
    "    plt.tight_layout()\n",
    "    plt.show()\n"
   ]
  },
  {
   "cell_type": "code",
   "execution_count": 7,
   "metadata": {},
   "outputs": [
    {
     "data": {
      "image/png": "[encoded data removed]",
      "text/plain": [
       "<Figure size 600x400 with 1 Axes>"
      ]
     },
     "metadata": {},
     "output_type": "display_data"
    }
   ],
   "source": [
    "plot_class_distribution(train_df, label_col='label', title='Training Set Class Imbalance')"
   ]
  },
  {
   "cell_type": "code",
   "execution_count": 8,
   "metadata": {},
   "outputs": [
    {
     "data": {
      "image/png": "[encoded data removed]",
      "text/plain": [
       "<Figure size 600x400 with 1 Axes>"
      ]
     },
     "metadata": {},
     "output_type": "display_data"
    }
   ],
   "source": [
    "plot_class_distribution(val_df, label_col='label', title='Validation Set Class Imbalance')"
   ]
  },
  {
   "cell_type": "code",
   "execution_count": 9,
   "metadata": {},
   "outputs": [
    {
     "data": {
      "text/html": [
       "<div>\n",
       "<style scoped>\n",
       "    .dataframe tbody tr th:only-of-type {\n",
       "        vertical-align: middle;\n",
       "    }\n",
       "\n",
       "    .dataframe tbody tr th {\n",
       "        vertical-align: top;\n",
       "    }\n",
       "\n",
       "    .dataframe thead th {\n",
       "        text-align: right;\n",
       "    }\n",
       "</style>\n",
       "<table border=\"1\" class=\"dataframe\">\n",
       "  <thead>\n",
       "    <tr style=\"text-align: right;\">\n",
       "      <th></th>\n",
       "      <th>content</th>\n",
       "      <th>label</th>\n",
       "    </tr>\n",
       "  </thead>\n",
       "  <tbody>\n",
       "    <tr>\n",
       "      <th>0</th>\n",
       "      <td>ex-cia head says trump remarks on russia inter...</td>\n",
       "      <td>1</td>\n",
       "    </tr>\n",
       "    <tr>\n",
       "      <th>1</th>\n",
       "      <td>you wont believe his punishment! hispanic stor...</td>\n",
       "      <td>0</td>\n",
       "    </tr>\n",
       "    <tr>\n",
       "      <th>2</th>\n",
       "      <td>federal reserve governor powell's policy views...</td>\n",
       "      <td>1</td>\n",
       "    </tr>\n",
       "    <tr>\n",
       "      <th>3</th>\n",
       "      <td>scoundrel hillary supporter starts trumpleaks ...</td>\n",
       "      <td>0</td>\n",
       "    </tr>\n",
       "    <tr>\n",
       "      <th>4</th>\n",
       "      <td>nancy pelosi arrogantly dismisses questions on...</td>\n",
       "      <td>0</td>\n",
       "    </tr>\n",
       "  </tbody>\n",
       "</table>\n",
       "</div>"
      ],
      "text/plain": [
       "                                             content  label\n",
       "0  ex-cia head says trump remarks on russia inter...      1\n",
       "1  you wont believe his punishment! hispanic stor...      0\n",
       "2  federal reserve governor powell's policy views...      1\n",
       "3  scoundrel hillary supporter starts trumpleaks ...      0\n",
       "4  nancy pelosi arrogantly dismisses questions on...      0"
      ]
     },
     "execution_count": 9,
     "metadata": {},
     "output_type": "execute_result"
    }
   ],
   "source": [
    "train_ds = train_df[['content', 'label']]\n",
    "train_ds.head()"
   ]
  },
  {
   "cell_type": "code",
   "execution_count": 10,
   "metadata": {},
   "outputs": [
    {
     "data": {
      "text/html": [
       "<div>\n",
       "<style scoped>\n",
       "    .dataframe tbody tr th:only-of-type {\n",
       "        vertical-align: middle;\n",
       "    }\n",
       "\n",
       "    .dataframe tbody tr th {\n",
       "        vertical-align: top;\n",
       "    }\n",
       "\n",
       "    .dataframe thead th {\n",
       "        text-align: right;\n",
       "    }\n",
       "</style>\n",
       "<table border=\"1\" class=\"dataframe\">\n",
       "  <thead>\n",
       "    <tr style=\"text-align: right;\">\n",
       "      <th></th>\n",
       "      <th>content</th>\n",
       "      <th>label</th>\n",
       "    </tr>\n",
       "  </thead>\n",
       "  <tbody>\n",
       "    <tr>\n",
       "      <th>0</th>\n",
       "      <td>trump hater george ramos promotes movie showin...</td>\n",
       "      <td>0</td>\n",
       "    </tr>\n",
       "    <tr>\n",
       "      <th>1</th>\n",
       "      <td>germany seeks to maintain unity if u.s. decert...</td>\n",
       "      <td>1</td>\n",
       "    </tr>\n",
       "    <tr>\n",
       "      <th>2</th>\n",
       "      <td>no sign u.s. wants to cancel nuclear deal with...</td>\n",
       "      <td>1</td>\n",
       "    </tr>\n",
       "    <tr>\n",
       "      <th>3</th>\n",
       "      <td>brazil prosecutors seek to extend batista dete...</td>\n",
       "      <td>1</td>\n",
       "    </tr>\n",
       "    <tr>\n",
       "      <th>4</th>\n",
       "      <td>trump just asked the most unqualified person e...</td>\n",
       "      <td>0</td>\n",
       "    </tr>\n",
       "  </tbody>\n",
       "</table>\n",
       "</div>"
      ],
      "text/plain": [
       "                                             content  label\n",
       "0  trump hater george ramos promotes movie showin...      0\n",
       "1  germany seeks to maintain unity if u.s. decert...      1\n",
       "2  no sign u.s. wants to cancel nuclear deal with...      1\n",
       "3  brazil prosecutors seek to extend batista dete...      1\n",
       "4  trump just asked the most unqualified person e...      0"
      ]
     },
     "execution_count": 10,
     "metadata": {},
     "output_type": "execute_result"
    }
   ],
   "source": [
    "val_ds = val_df[['content', 'label']]\n",
    "val_ds.head()"
   ]
  },
  {
   "cell_type": "code",
   "execution_count": 12,
   "metadata": {},
   "outputs": [],
   "source": [
    "tokenizer = AutoTokenizer.from_pretrained('distilroberta-base')"
   ]
  },
  {
   "cell_type": "code",
   "execution_count": 13,
   "metadata": {},
   "outputs": [],
   "source": [
    "def tokenize_texts_with_tokenizer(texts, tokenizer):\n",
    "    return tokenizer(\n",
    "        texts,\n",
    "        truncation=True,\n",
    "        padding=True,\n",
    "        max_length=512,\n",
    "        return_tensors='pt'\n",
    "    )"
   ]
  },
  {
   "cell_type": "code",
   "execution_count": 14,
   "metadata": {},
   "outputs": [],
   "source": [
    "train_x = list(train_ds['content'])\n",
    "train_y = list(train_ds['label'])\n",
    "val_x = list(val_ds['content'])\n",
    "val_y = list(val_ds['label'])"
   ]
  },
  {
   "cell_type": "code",
   "execution_count": 15,
   "metadata": {},
   "outputs": [],
   "source": [
    "train_encodings = tokenize_texts_with_tokenizer(train_x, tokenizer)\n",
    "val_encodings = tokenize_texts_with_tokenizer(val_x, tokenizer)"
   ]
  },
  {
   "cell_type": "code",
   "execution_count": null,
   "metadata": {},
   "outputs": [],
   "source": [
    "class NewsDataset(Dataset):\n",
    "    def __init__(self, encodings, labels):\n",
    "        self.encodings = encodings\n",
    "        self.labels = labels\n",
    "    def __len__(self):\n",
    "        return len(self.labels)\n",
    "\n",
    "    def __getitem__(self, idx):\n",
    "        item = {k: v[idx] for k, v in self.encodings.items()}\n",
    "        item[\"labels\"] = torch.tensor(self.labels[idx], dtype=torch.long)\n",
    "        return item"
   ]
  },
  {
   "cell_type": "code",
   "execution_count": 17,
   "metadata": {},
   "outputs": [],
   "source": [
    "train_dataset = NewsDataset(train_encodings, train_y)\n",
    "val_dataset = NewsDataset(val_encodings, val_y)"
   ]
  },
  {
   "cell_type": "code",
   "execution_count": 18,
   "metadata": {},
   "outputs": [],
   "source": [
    "train_loader = DataLoader(train_dataset, batch_size=8, shuffle=True)\n",
    "val_loader = DataLoader(val_dataset, batch_size=8)"
   ]
  },
  {
   "cell_type": "code",
   "execution_count": 19,
   "metadata": {},
   "outputs": [
    {
     "data": {
      "text/plain": [
       "device(type='cuda')"
      ]
     },
     "execution_count": 19,
     "metadata": {},
     "output_type": "execute_result"
    }
   ],
   "source": [
    "device = torch.device(\"mps\" if torch.backends.mps.is_available() else \"cuda\" if torch.cuda.is_available() else \"cpu\")\n",
    "device"
   ]
  },
  {
   "cell_type": "code",
   "execution_count": 20,
   "metadata": {},
   "outputs": [
    {
     "name": "stderr",
     "output_type": "stream",
     "text": [
      "Some weights of RobertaForSequenceClassification were not initialized from the model checkpoint at distilroberta-base and are newly initialized: ['classifier.dense.bias', 'classifier.dense.weight', 'classifier.out_proj.bias', 'classifier.out_proj.weight']\n",
      "You should probably TRAIN this model on a down-stream task to be able to use it for predictions and inference.\n"
     ]
    }
   ],
   "source": [
    "model = AutoModelForSequenceClassification.from_pretrained(\n",
    "    'distilroberta-base', num_labels=2\n",
    ").to(device)"
   ]
  },
  {
   "cell_type": "code",
   "execution_count": 21,
   "metadata": {},
   "outputs": [],
   "source": [
    "optimizer = AdamW(model.parameters(), lr=5e-5)\n",
    "num_training_steps = len(train_loader) * 3\n",
    "lr_scheduler = get_scheduler(\n",
    "    \"linear\", optimizer=optimizer, num_warmup_steps=0, num_training_steps=num_training_steps\n",
    ")"
   ]
  },
  {
   "cell_type": "code",
   "execution_count": 23,
   "metadata": {},
   "outputs": [
    {
     "name": "stderr",
     "output_type": "stream",
     "text": [
      "Epoch 1 - Training: 100%|██████████| 3750/3750 [2:20:04<00:00,  2.24s/it]  \n"
     ]
    },
    {
     "name": "stdout",
     "output_type": "stream",
     "text": [
      "\n",
      "Epoch 1 | Train loss: 0.0011 | Train Accuracy: 0.9998\n",
      "Epoch 1 | Val loss: 0.0000 | Validation Accuracy: 1.0000\n"
     ]
    },
    {
     "name": "stderr",
     "output_type": "stream",
     "text": [
      "Epoch 2 - Training: 100%|██████████| 3750/3750 [59:06<00:00,  1.06it/s]\n"
     ]
    },
    {
     "name": "stdout",
     "output_type": "stream",
     "text": [
      "\n",
      "Epoch 2 | Train loss: 0.0008 | Train Accuracy: 0.9999\n",
      "Epoch 2 | Val loss: 0.0018 | Validation Accuracy: 0.9998\n"
     ]
    },
    {
     "name": "stderr",
     "output_type": "stream",
     "text": [
      "Epoch 3 - Training: 100%|██████████| 3750/3750 [1:09:29<00:00,  1.11s/it]  \n"
     ]
    },
    {
     "name": "stdout",
     "output_type": "stream",
     "text": [
      "\n",
      "Epoch 3 | Train loss: 0.0000 | Train Accuracy: 1.0000\n",
      "Epoch 3 | Val loss: 0.0018 | Validation Accuracy: 0.9998\n"
     ]
    }
   ],
   "source": [
    "from sklearn.metrics import accuracy_score\n",
    "from tqdm import tqdm\n",
    "\n",
    "train_accuracies = []\n",
    "val_accuracies = []\n",
    "\n",
    "for epoch in range(3):\n",
    "    model.train()\n",
    "    train_loss = 0\n",
    "    true_labels_train = []\n",
    "    preds_train = []\n",
    "\n",
    "    for batch in tqdm(train_loader, desc=f\"Epoch {epoch + 1} - Training\"):\n",
    "        batch = {k: v.to(device) for k, v in batch.items()}\n",
    "        labels = batch[\"labels\"]\n",
    "\n",
    "        outputs = model(**batch)\n",
    "        loss = outputs.loss\n",
    "        logits = outputs.logits\n",
    "\n",
    "        optimizer.zero_grad()\n",
    "        loss.backward()\n",
    "        optimizer.step()\n",
    "        lr_scheduler.step()\n",
    "\n",
    "        train_loss += loss.item()\n",
    "\n",
    "        # For training accuracy\n",
    "        predictions = torch.argmax(logits, dim=-1)\n",
    "        preds_train.extend(predictions.cpu().numpy())\n",
    "        true_labels_train.extend(labels.cpu().numpy())\n",
    "\n",
    "    train_acc = accuracy_score(true_labels_train, preds_train)\n",
    "    train_accuracies.append(train_acc)\n",
    "\n",
    "    print(f\"\\nEpoch {epoch + 1} | Train loss: {train_loss / len(train_loader):.4f} | Train Accuracy: {train_acc:.4f}\")\n",
    "\n",
    "    # Validation\n",
    "    model.eval()\n",
    "    val_loss = 0\n",
    "    preds_val, true_labels_val = [], []\n",
    "\n",
    "    with torch.no_grad():\n",
    "        for batch in val_loader:\n",
    "            batch = {k: v.to(device) for k, v in batch.items()}\n",
    "            labels = batch[\"labels\"]\n",
    "\n",
    "            outputs = model(**batch)\n",
    "            logits = outputs.logits\n",
    "            loss = outputs.loss\n",
    "\n",
    "            val_loss += loss.item()\n",
    "\n",
    "            predictions = torch.argmax(logits, dim=-1)\n",
    "            preds_val.extend(predictions.cpu().numpy())\n",
    "            true_labels_val.extend(labels.cpu().numpy())\n",
    "\n",
    "    val_acc = accuracy_score(true_labels_val, preds_val)\n",
    "    val_accuracies.append(val_acc)\n",
    "\n",
    "    print(f\"Epoch {epoch + 1} | Val loss: {val_loss / len(val_loader):.4f} | Validation Accuracy: {val_acc:.4f}\")\n"
   ]
  },
  {
   "cell_type": "code",
   "execution_count": 24,
   "metadata": {},
   "outputs": [
    {
     "data": {
      "text/plain": [
       "('saved_model/tokenizer_config.json',\n",
       " 'saved_model/special_tokens_map.json',\n",
       " 'saved_model/vocab.json',\n",
       " 'saved_model/merges.txt',\n",
       " 'saved_model/added_tokens.json',\n",
       " 'saved_model/tokenizer.json')"
      ]
     },
     "execution_count": 24,
     "metadata": {},
     "output_type": "execute_result"
    }
   ],
   "source": [
    "model.save_pretrained(\"saved_model/\")\n",
    "tokenizer.save_pretrained(\"saved_model/\")"
   ]
  },
  {
   "cell_type": "code",
   "execution_count": null,
   "metadata": {},
   "outputs": [
    {
     "data": {
      "image/png": "[encoded data removed]",
      "text/plain": [
       "<Figure size 1000x500 with 1 Axes>"
      ]
     },
     "metadata": {},
     "output_type": "display_data"
    }
   ],
   "source": [
    "plt.figure(figsize=(10, 5))\n",
    "sns.lineplot(x=range(1, 4), y=train_accuracies, label=\"Train Accuracy\")\n",
    "sns.lineplot(x=range(1, 4), y=val_accuracies, label=\"Val Accuracy\")\n",
    "plt.title(\"Training vs Validation Accuracy\")\n",
    "plt.xlabel(\"Epoch\")\n",
    "plt.ylabel(\"Accuracy\")\n",
    "plt.legend()\n",
    "plt.grid(True)\n",
    "plt.show()"
   ]
  },
  {
   "cell_type": "code",
   "execution_count": null,
   "metadata": {},
   "outputs": [
    {
     "name": "stderr",
     "output_type": "stream",
     "text": [
      "Device set to use cuda:0\n",
      "Device set to use cuda:0\n"
     ]
    },
    {
     "data": {
      "image/png": "[encoded data removed]",
      "text/plain": [
       "<Figure size 640x480 with 1 Axes>"
      ]
     },
     "metadata": {},
     "output_type": "display_data"
    },
    {
     "data": {
      "image/png": "[encoded data removed]",
      "text/plain": [
       "<Figure size 640x480 with 1 Axes>"
      ]
     },
     "metadata": {},
     "output_type": "display_data"
    }
   ],
   "source": [
    "# Sentiment and Emotion Analysis\n",
    "\n",
    "# Load pipelines\n",
    "sentiment_analyzer = pipeline('sentiment-analysis', model='cardiffnlp/twitter-roberta-base-sentiment')\n",
    "emotion_analyzer = pipeline('text-classification', model='j-hartmann/emotion-english-distilroberta-base', top_k=1)\n",
    "\n",
    "# Define helper functions\n",
    "def get_sentiment(text):\n",
    "    try:\n",
    "        return sentiment_analyzer(text[:512])[0]['label']\n",
    "    except Exception as e:\n",
    "        return 'unknown'\n",
    "\n",
    "def get_emotion(text):\n",
    "    try:\n",
    "        return emotion_analyzer(text[:512])[0][0]['label']\n",
    "    except Exception as e:\n",
    "        return 'unknown'\n",
    "\n",
    "# Apply analysis\n",
    "train_df['sentiment'] = train_df['text'].apply(get_sentiment)\n",
    "train_df['emotion'] = train_df['text'].apply(get_emotion)\n",
    "\n",
    "# Plot Sentiment Distribution\n",
    "sns.countplot(data=train_df, x='sentiment')\n",
    "plt.title('Sentiment Distribution')\n",
    "plt.show()\n",
    "\n",
    "# Plot Emotion Distribution\n",
    "sns.countplot(data=train_df, x='emotion')\n",
    "plt.title('Emotion Distribution')\n",
    "plt.xticks(rotation=45)\n",
    "plt.show()\n"
   ]
  },
  {
   "cell_type": "code",
   "execution_count": null,
   "metadata": {},
   "outputs": [],
   "source": [
    "from lime.lime_text import LimeTextExplainer\n",
    "import numpy as np\n",
    "\n",
    "class_names = ['FAKE', 'REAL']\n",
    "explainer = LimeTextExplainer(class_names=class_names)\n",
    "\n",
    "def predict_proba(texts, batch_size=32):\n",
    "    all_probs = []\n",
    "\n",
    "    model.eval()\n",
    "    with torch.no_grad():\n",
    "        for i in range(0, len(texts), batch_size):\n",
    "            batch_texts = texts[i:i + batch_size]\n",
    "            encodings = tokenizer(\n",
    "                batch_texts,\n",
    "                truncation=True,\n",
    "                padding=True,\n",
    "                max_length=512,\n",
    "                return_tensors='pt'\n",
    "            )\n",
    "            encodings = {k: v.to(device) for k, v in encodings.items()}\n",
    "            logits = model(**encodings).logits\n",
    "            probs = torch.nn.functional.softmax(logits, dim=1)\n",
    "            all_probs.append(probs.cpu().numpy())\n",
    "\n",
    "    return np.concatenate(all_probs, axis=0)"
   ]
  },
  {
   "cell_type": "code",
   "execution_count": null,
   "metadata": {},
   "outputs": [
    {
     "name": "stdout",
     "output_type": "stream",
     "text": [
      "politicsnews: 0.9977\n",
      "may: 0.0002\n",
      "trumps: 0.0002\n",
      "miller: 0.0002\n",
      "to: 0.0002\n",
      "website: 0.0002\n",
      "transition: 0.0002\n",
      "supports: 0.0001\n",
      "u: 0.0001\n",
      "forward: 0.0001\n"
     ]
    }
   ],
   "source": [
    "text = train_df.iloc[10]['content']\n",
    "exp = explainer.explain_instance(text, predict_proba, num_features=10)\n",
    "\n",
    "for feature, weight in exp.as_list():\n",
    "    print(f\"{feature}: {weight:.4f}\")"
   ]
  }
 ],
 "metadata": {
  "kernelspec": {
   "display_name": "Python 3",
   "language": "python",
   "name": "python3"
  },
  "language_info": {
   "codemirror_mode": {
    "name": "ipython",
    "version": 3
   },
   "file_extension": ".py",
   "mimetype": "text/x-python",
   "name": "python",
   "nbconvert_exporter": "python",
   "pygments_lexer": "ipython3",
   "version": "3.11.7"
  }
 },
 "nbformat": 4,
 "nbformat_minor": 2
}
